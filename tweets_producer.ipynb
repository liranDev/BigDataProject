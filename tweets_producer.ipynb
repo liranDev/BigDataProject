{
 "cells": [
  {
   "cell_type": "code",
   "execution_count": 3,
   "id": "6385bc6e",
   "metadata": {},
   "outputs": [],
   "source": [
    "import twitter"
   ]
  },
  {
   "cell_type": "code",
   "execution_count": 7,
   "id": "1c5164df",
   "metadata": {},
   "outputs": [],
   "source": [
    "consumer_key = 'DTn13JMYvV1BnXB38nleMcEJv'\n",
    "consumer_secret = 'ZUgjaDpksZUaeoQL99ENWNoW8u8lCe20XLTrWDXFNt7muJp2hE'\n",
    "BEARER_TOKEN = 'AAAAAAAAAAAAAAAAAAAAAK0BmAEAAAAAHAiG26YWMT%2FNgzr7sIjRdveJKwY%3DuDrUPMQvMLlfxoHrvI4FF54OeKnkhXHfYNBV6BXyVivdPzJmYm'\n",
    "access_token = '4743416687-vq5kJG50bzz1MtdFXarFlJkqDZ7yMD45JML4kom'\n",
    "access_token_secret = 'zpELzDKedpvYuTRQlaPAxS1aBMqWWtTVwVYKoghPGHFVQ'"
   ]
  },
  {
   "cell_type": "code",
   "execution_count": 9,
   "id": "fa67dce3",
   "metadata": {},
   "outputs": [],
   "source": [
    "api = twitter.Api(consumer_key=consumer_key,\n",
    "                  consumer_secret=consumer_secret,\n",
    "                  access_token_key=access_token,\n",
    "                  access_token_secret=access_token_secret)\n",
    "\n",
    "user = api.VerifyCredentials()"
   ]
  },
  {
   "cell_type": "code",
   "execution_count": 11,
   "id": "e040520e",
   "metadata": {},
   "outputs": [],
   "source": [
    "query = 'finance AND \"S&P 500\"'\n",
    "\n",
    "# Search for tweets containing the search query\n",
    "results = api.GetSearch(raw_query=\"q={}&result_type=recent&count=10\".format(query), lang='en')"
   ]
  },
  {
   "cell_type": "code",
   "execution_count": null,
   "id": "db514ca1",
   "metadata": {},
   "outputs": [],
   "source": []
  },
  {
   "cell_type": "code",
   "execution_count": 4,
   "id": "82997db8",
   "metadata": {},
   "outputs": [],
   "source": [
    "import os\n",
    "from pathlib import Path\n",
    "\n",
    "\n",
    "# data\n",
    "DATA_STREAM = Path.cwd().parent / 'data' / 'data.csv'\n",
    "SPY_STREAM = Path.cwd().parent / 'data' / 'SPY.csv'\n",
    "\n",
    "\n",
    "class KafkaConfig:\n",
    "    FINANCE_TOPIC = 'finance'\n",
    "    HOST = 'localhost:9092'\n",
    "\n",
    "\n",
    "class TwitterConfig:\n",
    "    CONSUMER_TWITTER_API_KEY = os.getenv('TWITTER_API_KEY')\n",
    "    CONSUMER_TWITTER_API_KEY_SECRET = os.getenv('TWITTER_API_KEY_SECRET')\n",
    "    BEARER_TOKEN = os.getenv('BEARER_TOKEN')\n",
    "    TWITTER_ACCESS_TOKEN = os.getenv('TWITTER_ACCESS_TOKEN')\n",
    "    TWITTER_TOKEN_SECRET = os.getenv('TWITTER_TOKEN_SECRET')\n"
   ]
  },
  {
   "cell_type": "code",
   "execution_count": null,
   "id": "9177d49b",
   "metadata": {},
   "outputs": [],
   "source": []
  }
 ],
 "metadata": {
  "kernelspec": {
   "display_name": "Python 3 (ipykernel)",
   "language": "python",
   "name": "python3"
  },
  "language_info": {
   "codemirror_mode": {
    "name": "ipython",
    "version": 3
   },
   "file_extension": ".py",
   "mimetype": "text/x-python",
   "name": "python",
   "nbconvert_exporter": "python",
   "pygments_lexer": "ipython3",
   "version": "3.9.2"
  }
 },
 "nbformat": 4,
 "nbformat_minor": 5
}
