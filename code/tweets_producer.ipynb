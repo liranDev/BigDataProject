{
 "cells": [
  {
   "cell_type": "code",
   "execution_count": 1,
   "id": "f4914a1d",
   "metadata": {},
   "outputs": [],
   "source": [
    "import twitter\n",
    "import datetime\n",
    "\n",
    "from kafka_api import KafkaProducerAPI, KafkaConsumerAPI, KafkaTopicManager"
   ]
  },
  {
   "cell_type": "code",
   "execution_count": 2,
   "id": "13425318",
   "metadata": {},
   "outputs": [],
   "source": [
    "consumer_key = 'DTn13JMYvV1BnXB38nleMcEJv'\n",
    "consumer_secret = 'ZUgjaDpksZUaeoQL99ENWNoW8u8lCe20XLTrWDXFNt7muJp2hE'\n",
    "BEARER_TOKEN = 'AAAAAAAAAAAAAAAAAAAAAK0BmAEAAAAAHAiG26YWMT%2FNgzr7sIjRdveJKwY%3DuDrUPMQvMLlfxoHrvI4FF54OeKnkhXHfYNBV6BXyVivdPzJmYm'\n",
    "access_token = '4743416687-vq5kJG50bzz1MtdFXarFlJkqDZ7yMD45JML4kom'\n",
    "access_token_secret = 'zpELzDKedpvYuTRQlaPAxS1aBMqWWtTVwVYKoghPGHFVQ'"
   ]
  },
  {
   "cell_type": "code",
   "execution_count": 3,
   "id": "bc1689cf",
   "metadata": {},
   "outputs": [],
   "source": [
    "api = twitter.Api(consumer_key=consumer_key,\n",
    "                  consumer_secret=consumer_secret,\n",
    "                  access_token_key=access_token,\n",
    "                  access_token_secret=access_token_secret)\n",
    "\n",
    "user = api.VerifyCredentials()"
   ]
  },
  {
   "cell_type": "code",
   "execution_count": 4,
   "id": "020ceafc",
   "metadata": {},
   "outputs": [],
   "source": [
    "query = 'finance AND \"S&P 500\"'\n",
    "\n",
    "# Search for tweets containing the search query\n",
    "results = api.GetSearch(raw_query=\"q={}&result_type=recent&count=10\".format(query), lang='en')"
   ]
  },
  {
   "cell_type": "code",
   "execution_count": 5,
   "id": "88c2dc88",
   "metadata": {},
   "outputs": [
    {
     "name": "stdout",
     "output_type": "stream",
     "text": [
      "Failed to create topic finance: KafkaError{code=TOPIC_ALREADY_EXISTS,val=36,str=\"Topic 'finance' already exists.\"}\n"
     ]
    }
   ],
   "source": [
    "TOPIC = 'finance'\n",
    "\n",
    "topic_manager = KafkaTopicManager('localhost:9092')\n",
    "topic_manager.create_topic(TOPIC)\n",
    "consumer = KafkaConsumerAPI('test-group', [TOPIC], 'localhost:9092')\n",
    "\n",
    "producer = KafkaProducerAPI('localhost:9092')"
   ]
  },
  {
   "cell_type": "code",
   "execution_count": 6,
   "id": "56b58be0",
   "metadata": {},
   "outputs": [
    {
     "name": "stderr",
     "output_type": "stream",
     "text": [
      "ERROR:root:Exception while sending command.\n",
      "Traceback (most recent call last):\n",
      "  File \"/opt/spark/python/lib/py4j-0.10.9.5-src.zip/py4j/clientserver.py\", line 516, in send_command\n",
      "    raise Py4JNetworkError(\"Answer from Java side is empty\")\n",
      "py4j.protocol.Py4JNetworkError: Answer from Java side is empty\n",
      "\n",
      "During handling of the above exception, another exception occurred:\n",
      "\n",
      "Traceback (most recent call last):\n",
      "  File \"/opt/spark/python/lib/py4j-0.10.9.5-src.zip/py4j/java_gateway.py\", line 1038, in send_command\n",
      "    response = connection.send_command(command)\n",
      "  File \"/opt/spark/python/lib/py4j-0.10.9.5-src.zip/py4j/clientserver.py\", line 539, in send_command\n",
      "    raise Py4JNetworkError(\n",
      "py4j.protocol.Py4JNetworkError: Error while sending or receiving\n",
      "/opt/spark/python/pyspark/context.py:468: RuntimeWarning: Unable to cleanly shutdown Spark JVM process. It is possible that the process has crashed, been killed or may also be in a zombie state.\n",
      "  warnings.warn(\n",
      "%4|1679415725.062|TERMINATE|rdkafka#producer-3| [thrd:app]: Producer terminating with 10 messages (0 byte) still in queue or transit: use flush() to wait for outstanding message delivery\n",
      "ERROR:root:Exception while sending command.\n",
      "Traceback (most recent call last):\n",
      "  File \"/opt/spark/python/lib/py4j-0.10.9.5-src.zip/py4j/clientserver.py\", line 516, in send_command\n",
      "    raise Py4JNetworkError(\"Answer from Java side is empty\")\n",
      "py4j.protocol.Py4JNetworkError: Answer from Java side is empty\n",
      "\n",
      "During handling of the above exception, another exception occurred:\n",
      "\n",
      "Traceback (most recent call last):\n",
      "  File \"/opt/spark/python/lib/py4j-0.10.9.5-src.zip/py4j/java_gateway.py\", line 1038, in send_command\n",
      "    response = connection.send_command(command)\n",
      "  File \"/opt/spark/python/lib/py4j-0.10.9.5-src.zip/py4j/clientserver.py\", line 539, in send_command\n",
      "    raise Py4JNetworkError(\n",
      "py4j.protocol.Py4JNetworkError: Error while sending or receiving\n"
     ]
    }
   ],
   "source": [
    "for tweet in results:\n",
    "    producer.produce(TOPIC, {'tweet_timestap': str(datetime.datetime.now()), 'tweet': tweet.text})"
   ]
  },
  {
   "cell_type": "code",
   "execution_count": null,
   "id": "b7db4318",
   "metadata": {},
   "outputs": [],
   "source": [
    "import os\n",
    "from pathlib import Path\n",
    "\n",
    "\n",
    "# data\n",
    "DATA_STREAM = Path.cwd().parent / 'data' / 'data.csv'\n",
    "SPY_STREAM = Path.cwd().parent / 'data' / 'SPY.csv'\n",
    "\n",
    "\n",
    "class KafkaConfig:\n",
    "    FINANCE_TOPIC = 'finance'\n",
    "    HOST = 'localhost:9092'\n",
    "\n",
    "\n",
    "class TwitterConfig:\n",
    "    CONSUMER_TWITTER_API_KEY = os.getenv('TWITTER_API_KEY')\n",
    "    CONSUMER_TWITTER_API_KEY_SECRET = os.getenv('TWITTER_API_KEY_SECRET')\n",
    "    BEARER_TOKEN = os.getenv('BEARER_TOKEN')\n",
    "    TWITTER_ACCESS_TOKEN = os.getenv('TWITTER_ACCESS_TOKEN')\n",
    "    TWITTER_TOKEN_SECRET = os.getenv('TWITTER_TOKEN_SECRET')\n"
   ]
  },
  {
   "cell_type": "code",
   "execution_count": null,
   "id": "bf957105",
   "metadata": {},
   "outputs": [],
   "source": []
  }
 ],
 "metadata": {
  "kernelspec": {
   "display_name": "Python 3 (ipykernel)",
   "language": "python",
   "name": "python3"
  },
  "language_info": {
   "codemirror_mode": {
    "name": "ipython",
    "version": 3
   },
   "file_extension": ".py",
   "mimetype": "text/x-python",
   "name": "python",
   "nbconvert_exporter": "python",
   "pygments_lexer": "ipython3",
   "version": "3.9.2"
  }
 },
 "nbformat": 4,
 "nbformat_minor": 5
}
